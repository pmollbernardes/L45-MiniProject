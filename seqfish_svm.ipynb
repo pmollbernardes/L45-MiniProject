{
 "cells": [
  {
   "cell_type": "code",
   "execution_count": 19,
   "metadata": {},
   "outputs": [],
   "source": [
    "import squidpy as sq\n",
    "import numpy as np\n",
    "from sklearn.model_selection import StratifiedKFold\n",
    "from sklearn import svm\n",
    "from sklearn import metrics\n",
    "from scipy.sparse import hstack\n",
    "import json\n",
    "from scipy.sparse import csr_matrix\n",
    "import math\n"
   ]
  },
  {
   "cell_type": "code",
   "execution_count": 20,
   "metadata": {},
   "outputs": [],
   "source": [
    "adata = sq.datasets.seqfish()\n",
    "\n",
    "labels = adata.obs['celltype_mapped_refined'].cat.codes.values\n",
    "classes = np.unique(labels)\n",
    "_, counts = np.unique(labels, return_counts=True)\n",
    "\n",
    "X_with_spatial = hstack((adata.X, adata.obsm['spatial']))"
   ]
  },
  {
   "cell_type": "code",
   "execution_count": 21,
   "metadata": {},
   "outputs": [],
   "source": [
    "svm_results = []"
   ]
  },
  {
   "cell_type": "code",
   "execution_count": 22,
   "metadata": {},
   "outputs": [],
   "source": [
    "def save_results(filename, results):\n",
    "    with open(filename, 'w') as f:\n",
    "        for result in results:\n",
    "            json.dump(result, f)\n",
    "            f.write(\"\\n\")"
   ]
  },
  {
   "cell_type": "code",
   "execution_count": 23,
   "metadata": {},
   "outputs": [],
   "source": [
    "def get_stats(y_true, y_pred):\n",
    "    return {\n",
    "        'accuracy_score': metrics.accuracy_score(y_true, y_pred),\n",
    "        'balanced_accuracy': metrics.balanced_accuracy_score(y_true, y_pred),\n",
    "        'f1_score': metrics.f1_score(y_true, y_pred, average='macro', labels=classes, zero_division=0),\n",
    "        'recall': metrics.recall_score(y_true, y_pred, average='macro', labels=classes, zero_division=0),\n",
    "        'precision_score': metrics.precision_score(y_true, y_pred, average='macro', labels=classes, zero_division=0),\n",
    "    }\n",
    "\n",
    "def average_stats(stats_list):\n",
    "    keys = stats_list[0].keys()\n",
    "    n = len(stats_list)\n",
    "    avg = {}\n",
    "    for key in keys:\n",
    "        sum = 0\n",
    "        for stats in stats_list:\n",
    "            sum += stats[key]\n",
    "        avg[key] = sum / n\n",
    "    return avg\n",
    "\n",
    "def eval_k_fold(model, x, y):\n",
    "    skf = StratifiedKFold(n_splits=3, shuffle=True, random_state=1604)\n",
    "    stats_list = []\n",
    "    for train_index, test_index in skf.split(x, y):\n",
    "        model.fit(x[train_index], y[train_index])\n",
    "        pred = model.predict(x[test_index])\n",
    "        stats_list.append(get_stats(y[test_index], pred[test_index]))\n",
    "    avg = average_stats(stats_list)\n",
    "    print(avg)\n",
    "    return avg\n"
   ]
  },
  {
   "cell_type": "code",
   "execution_count": 7,
   "metadata": {},
   "outputs": [
    {
     "name": "stdout",
     "output_type": "stream",
     "text": [
      "{'acc': 0.8413679439637413, 'f1': 0.6918458992784452, 'balanced_acc': 0.6828352659430069}\n",
      "{'acc': 0.8083539348990523, 'f1': 0.6448603906164005, 'balanced_acc': 0.6304722328293196}\n",
      "{'acc': 0.8207663782447465, 'f1': 0.6876761021251848, 'balanced_acc': 0.6754432015820995}\n",
      "{'acc': 0.8144829007004533, 'f1': 0.6733388685511592, 'balanced_acc': 0.662373033572585}\n"
     ]
    }
   ],
   "source": [
    "classifier = svm.SVC(kernel='rbf')\n",
    "res = eval_k_fold(classifier, adata.X, labels)\n",
    "res['description'] = \"No spatial data\"\n",
    "svm_results.append(res)"
   ]
  },
  {
   "cell_type": "code",
   "execution_count": 8,
   "metadata": {},
   "outputs": [
    {
     "name": "stdout",
     "output_type": "stream",
     "text": [
      "{'acc': 0.7940358467243511, 'f1': 0.6975112341824025, 'balanced_acc': 0.7065444094052212}\n"
     ]
    }
   ],
   "source": [
    "classifier = svm.SVC(kernel='rbf', class_weight='balanced')\n",
    "res = eval_k_fold(classifier, adata.X, labels)\n",
    "res['description'] = \"No spatial data, balanced\"\n",
    "svm_results.append(res)\n"
   ]
  },
  {
   "cell_type": "code",
   "execution_count": null,
   "metadata": {},
   "outputs": [],
   "source": [
    "classifier = svm.SVC(kernel='rbf')\n",
    "res = eval_k_fold(classifier, X_with_spatial, labels)\n",
    "res['description'] = \"With spatial data\"\n",
    "svm_results.append(res)"
   ]
  },
  {
   "cell_type": "code",
   "execution_count": null,
   "metadata": {},
   "outputs": [],
   "source": [
    "theta = math.pi / 2\n",
    "R = np.array([[math.cos(theta), -math.sin(theta)],\n",
    "             [math.sin(theta), math.cos(theta)]])\n",
    "X_with_spatial_rotated = hstack(\n",
    "    (X_with_spatial[:, :-2], X_with_spatial[:, -2:] @ csr_matrix(R)))\n",
    "res = eval_k_fold(classifier, X_with_spatial_rotated, labels)\n",
    "res['description'] = \"With spatial data, rotated\"\n",
    "svm_results.append(res)\n"
   ]
  },
  {
   "cell_type": "code",
   "execution_count": null,
   "metadata": {},
   "outputs": [],
   "source": [
    "save_results(\"svm_results\", svm_results)"
   ]
  }
 ],
 "metadata": {
  "interpreter": {
   "hash": "74ab7c6ffe6706754a8af46cc4d18eebe476c74ce21a19282f620e1b1e9919fe"
  },
  "kernelspec": {
   "display_name": "Python 3.9.7 ('base')",
   "language": "python",
   "name": "python3"
  },
  "language_info": {
   "codemirror_mode": {
    "name": "ipython",
    "version": 3
   },
   "file_extension": ".py",
   "mimetype": "text/x-python",
   "name": "python",
   "nbconvert_exporter": "python",
   "pygments_lexer": "ipython3",
   "version": "3.9.7"
  },
  "orig_nbformat": 4
 },
 "nbformat": 4,
 "nbformat_minor": 2
}
