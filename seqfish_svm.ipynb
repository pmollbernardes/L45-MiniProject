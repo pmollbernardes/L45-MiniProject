{
 "cells": [
  {
   "cell_type": "code",
   "execution_count": 10,
   "metadata": {},
   "outputs": [],
   "source": [
    "import squidpy as sq\n",
    "import numpy as np\n",
    "import math\n",
    "from sklearn.model_selection import train_test_split, StratifiedKFold\n",
    "from sklearn import svm\n",
    "from sklearn import metrics\n",
    "from scipy.sparse import hstack\n",
    "from sklearn.preprocessing import normalize\n"
   ]
  },
  {
   "cell_type": "code",
   "execution_count": 11,
   "metadata": {},
   "outputs": [],
   "source": [
    "adata = sq.datasets.seqfish()\n",
    "\n",
    "labels = adata.obs['celltype_mapped_refined'].cat.codes.values\n",
    "classes = np.unique(labels)\n",
    "_, counts = np.unique(labels, return_counts=True)\n",
    "\n",
    "X_with_spatial = hstack((adata.X, adata.obsm['spatial']))\n",
    "\n",
    "normalized_x = normalize(adata.X, norm='max', axis=0)\n",
    "log_x = adata.X.copy()\n",
    "log_x.data = np.log(log_x.data)\n",
    "normalized_log_x = normalize(log_x, norm='max', axis=0)\n"
   ]
  },
  {
   "cell_type": "code",
   "execution_count": 6,
   "metadata": {},
   "outputs": [],
   "source": [
    "def eval_k_fold(model, x, y):\n",
    "    skf = StratifiedKFold(n_splits=3, shuffle=True, random_state=1604)\n",
    "    acc = []\n",
    "    balanced_acc = []\n",
    "    f1 = []\n",
    "    for train_index, test_index in skf.split(x, y):\n",
    "        model.fit(x[train_index], y[train_index])\n",
    "        pred = model.predict(x[test_index])\n",
    "        acc.append(metrics.accuracy_score(y[test_index], pred))\n",
    "        f1.append(metrics.f1_score(\n",
    "            y[test_index], pred, average='macro', labels=classes, zero_division=0))\n",
    "        balanced_acc.append(\n",
    "            metrics.balanced_accuracy_score(y[test_index], pred))\n",
    "    return {'acc': np.mean(acc), 'f1': np.mean(f1), 'balanced_acc': np.mean(balanced_acc)}\n"
   ]
  },
  {
   "cell_type": "code",
   "execution_count": 7,
   "metadata": {},
   "outputs": [
    {
     "name": "stdout",
     "output_type": "stream",
     "text": [
      "{'acc': 0.8413679439637413, 'f1': 0.6918458992784452, 'balanced_acc': 0.6828352659430069}\n",
      "{'acc': 0.8083539348990523, 'f1': 0.6448603906164005, 'balanced_acc': 0.6304722328293196}\n",
      "{'acc': 0.8207663782447465, 'f1': 0.6876761021251848, 'balanced_acc': 0.6754432015820995}\n",
      "{'acc': 0.8144829007004533, 'f1': 0.6733388685511592, 'balanced_acc': 0.662373033572585}\n"
     ]
    }
   ],
   "source": [
    "classifier = svm.SVC(kernel='rbf')\n",
    "results = []\n",
    "for data in [adata.X, normalized_x, log_x, normalized_log_x]:\n",
    "    res = eval_k_fold(classifier, data, labels)\n",
    "    print(res)\n",
    "    results.append(res)"
   ]
  },
  {
   "cell_type": "code",
   "execution_count": 8,
   "metadata": {},
   "outputs": [
    {
     "name": "stdout",
     "output_type": "stream",
     "text": [
      "{'acc': 0.7940358467243511, 'f1': 0.6975112341824025, 'balanced_acc': 0.7065444094052212}\n"
     ]
    }
   ],
   "source": [
    "classifier_balanced = svm.SVC(kernel='rbf', class_weight='balanced')\n",
    "res = eval_k_fold(classifier_balanced, data, labels)\n",
    "print(res)"
   ]
  },
  {
   "cell_type": "code",
   "execution_count": null,
   "metadata": {},
   "outputs": [],
   "source": [
    "classifier_x_plus_spatial = svm.SVC(kernel='rbf')\n",
    "# classifier_x_plus_spatial.fit(X_train[:, :-2], y_train)\n",
    "# y_pred = classifier_x_plus_spatial.predict(X_test[:, :-2])\n",
    "# print(\"Accuracy (RBF SVC, Spatial):\", metrics.accuracy_score(y_test, y_pred))\n",
    "print(eval_k_fold(classifier_x_plus_spatial, X_with_spatial, labels))\n"
   ]
  },
  {
   "cell_type": "code",
   "execution_count": null,
   "metadata": {},
   "outputs": [],
   "source": [
    "classifier_spatial_only = svm.SVC(kernel='rbf')\n",
    "# classifier_spatial_only.fit(X_with_spatial[:, -2:], labels)\n",
    "# y_pred = classifier_spatial_only.predict(X_with_spatial[:, -2:])\n",
    "# print(\"Accuracy (RBF SVC, Spatial only):\",\n",
    "#       metrics.accuracy_score(y_test, y_pred))\n",
    "print(eval_k_fold(classifier_spatial_only, X_with_spatial[:, -2:], labels))"
   ]
  },
  {
   "cell_type": "code",
   "execution_count": null,
   "metadata": {},
   "outputs": [],
   "source": [
    "# theta = math.pi / 2\n",
    "# R = np.array([[math.cos(theta), -math.sin(theta)],\n",
    "#              [math.sin(theta), math.cos(theta)]])\n",
    "# X_test_spatial_only_rotated = np.matmul(X_train[:, -2:], R)\n",
    "# y_pred = classifier_spatial_only.predict(X_test_spatial_only_rotated)\n",
    "# print(\"Accuracy (RBF SVC, Spatial only, Rotated):\",\n",
    "#       metrics.accuracy_score(y_test, y_pred))\n"
   ]
  },
  {
   "cell_type": "code",
   "execution_count": null,
   "metadata": {},
   "outputs": [],
   "source": [
    "# from scipy.sparse import csr_matrix\n",
    "\n",
    "# theta = math.pi / 2\n",
    "# R = np.array([[math.cos(theta), -math.sin(theta)],\n",
    "#              [math.sin(theta), math.cos(theta)]])\n",
    "# X_test_spatial_rotated = hstack(\n",
    "#     (X_test[:, :-2], X_test[:, -2:] @ csr_matrix(R)))\n",
    "# y_pred = classifier_x_plus_spatial.predict(X_test_spatial_rotated)\n",
    "# print(\"Accuracy (RBF SVC, Spatial, Rotated):\",\n",
    "#       metrics.accuracy_score(y_test, y_pred))\n"
   ]
  },
  {
   "cell_type": "code",
   "execution_count": null,
   "metadata": {},
   "outputs": [],
   "source": []
  }
 ],
 "metadata": {
  "interpreter": {
   "hash": "74ab7c6ffe6706754a8af46cc4d18eebe476c74ce21a19282f620e1b1e9919fe"
  },
  "kernelspec": {
   "display_name": "Python 3.9.7 ('base')",
   "language": "python",
   "name": "python3"
  },
  "language_info": {
   "codemirror_mode": {
    "name": "ipython",
    "version": 3
   },
   "file_extension": ".py",
   "mimetype": "text/x-python",
   "name": "python",
   "nbconvert_exporter": "python",
   "pygments_lexer": "ipython3",
   "version": "3.9.7"
  },
  "orig_nbformat": 4
 },
 "nbformat": 4,
 "nbformat_minor": 2
}
