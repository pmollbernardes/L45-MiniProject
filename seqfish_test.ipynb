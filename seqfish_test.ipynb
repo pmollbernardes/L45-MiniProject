{
 "cells": [
  {
   "cell_type": "code",
   "execution_count": 1,
   "metadata": {},
   "outputs": [],
   "source": [
    "import squidpy as sq\n",
    "\n",
    "adata = sq.datasets.seqfish()"
   ]
  },
  {
   "cell_type": "code",
   "execution_count": 9,
   "metadata": {},
   "outputs": [],
   "source": [
    "from sklearn.model_selection import train_test_split\n",
    "from sklearn import svm\n",
    "from sklearn import metrics\n",
    "from scipy.sparse import hstack\n",
    "\n",
    "labels = adata.obs['celltype_mapped_refined'].cat.codes.values\n",
    "X_with_spatial = hstack((adata.X, adata.obsm['spatial']))\n",
    "\n",
    "X_train, X_test, y_train, y_test = train_test_split(\n",
    "    adata.X, labels, test_size=0.3,)\n",
    "\n",
    "X_train_spatial, X_test_spatial, y_train_spatial, y_test_spatial = train_test_split(\n",
    "    X_with_spatial, labels, test_size=0.3,)\n",
    "\n",
    "X_train_spatial_only, X_test_spatial_only, y_train_spatial_only, y_test_spatial_only = train_test_split(\n",
    "    adata.obsm['spatial'], labels, test_size=0.3,)\n",
    "\n"
   ]
  },
  {
   "cell_type": "code",
   "execution_count": 10,
   "metadata": {},
   "outputs": [
    {
     "name": "stdout",
     "output_type": "stream",
     "text": [
      "Accuracy (RBF SVC): 0.8439484978540772\n",
      "Accuracy (RBF SVC, Spatial): 0.8357081545064378\n"
     ]
    }
   ],
   "source": [
    "\n",
    "classifier_x_only = svm.SVC(kernel='rbf')\n",
    "classifier_x_only.fit(X_train, y_train)\n",
    "y_pred = classifier_x_only.predict(X_test)\n",
    "print(\"Accuracy (RBF SVC):\", metrics.accuracy_score(y_test, y_pred))\n",
    "\n",
    "classifier_x_plus_spatial = svm.SVC(kernel='rbf')\n",
    "classifier_x_plus_spatial.fit(X_train_spatial, y_train_spatial)\n",
    "y_pred = classifier_x_plus_spatial.predict(X_test_spatial)\n",
    "print(\"Accuracy (RBF SVC, Spatial):\", metrics.accuracy_score(y_test_spatial, y_pred))\n"
   ]
  },
  {
   "cell_type": "code",
   "execution_count": 11,
   "metadata": {},
   "outputs": [
    {
     "name": "stdout",
     "output_type": "stream",
     "text": [
      "Accuracy (RBF SVC, Spatial only): 0.5769957081545064\n"
     ]
    }
   ],
   "source": [
    "# Classify based solely on spatial information\n",
    "\n",
    "classifier_spatial_only = svm.SVC(kernel='rbf')\n",
    "classifier_spatial_only.fit(X_train_spatial_only, y_train_spatial_only)\n",
    "y_pred = classifier_spatial_only.predict(X_test_spatial_only)\n",
    "print(\"Accuracy (RBF SVC, Spatial only):\", metrics.accuracy_score(y_test_spatial_only, y_pred))\n"
   ]
  },
  {
   "cell_type": "code",
   "execution_count": 5,
   "metadata": {},
   "outputs": [
    {
     "name": "stdout",
     "output_type": "stream",
     "text": [
      "Accuracy (RBF SVC, Spatial only, Rotated): 0.03690987124463519\n"
     ]
    }
   ],
   "source": [
    "import numpy as np\n",
    "import math\n",
    "\n",
    "theta = math.pi / 2\n",
    "R = np.array([[math.cos(theta), -math.sin(theta)],\n",
    "             [math.sin(theta), math.cos(theta)]])\n",
    "X_test_spatial_only_rotated = np.matmul(X_test_spatial_only, R)\n",
    "y_pred = classifier_spatial_only.predict(X_test_spatial_only_rotated)\n",
    "print(\"Accuracy (RBF SVC, Spatial only, Rotated):\",\n",
    "      metrics.accuracy_score(y_test_spatial_only, y_pred))\n"
   ]
  },
  {
   "cell_type": "code",
   "execution_count": 7,
   "metadata": {},
   "outputs": [
    {
     "name": "stdout",
     "output_type": "stream",
     "text": [
      "Accuracy (RBF SVC, Spatial, Rotated): 0.18729613733905578\n"
     ]
    }
   ],
   "source": [
    "from scipy.sparse import csr_matrix\n",
    "\n",
    "theta = 0 * math.pi / 2\n",
    "R = np.array([[math.cos(theta), -math.sin(theta)],\n",
    "             [math.sin(theta), math.cos(theta)]])\n",
    "X_test_spatial_rotated = hstack(\n",
    "    (X_test_spatial[:, :-2], X_test_spatial[:, -2:] @ csr_matrix(R)))\n",
    "y_pred = classifier_x_plus_spatial.predict(X_test_spatial_rotated)\n",
    "print(\"Accuracy (RBF SVC, Spatial, Rotated):\",\n",
    "      metrics.accuracy_score(y_test_spatial, y_pred))\n"
   ]
  },
  {
   "cell_type": "code",
   "execution_count": 17,
   "metadata": {},
   "outputs": [],
   "source": [
    "import random\n",
    "import torch\n",
    "import torch.nn.functional as F\n",
    "from torch_geometric.data import Data\n",
    "from torch_geometric.utils import from_scipy_sparse_matrix\n",
    "from GNN import MPNNModel\n",
    "\n",
    "device = 'cuda' if torch.cuda.is_available() else 'cpu'\n",
    "\n",
    "if 'spatial_distances' not in adata.obsp:\n",
    "    sq.gr.spatial_neighbors(adata)\n",
    "\n",
    "train_mask_size = int(adata.X.shape[0] * 0.7)\n",
    "shuffled_indices = list(range(adata.X.shape[0]))\n",
    "random.shuffle(shuffled_indices)\n",
    "train_mask = torch.tensor(shuffled_indices[:train_mask_size], dtype=torch.long)\n",
    "test_mask = torch.tensor(shuffled_indices[train_mask_size:], dtype=torch.long)\n",
    "\n",
    "def train(model, data, train_mask, test_mask):\n",
    "    optimizer = torch.optim.Adam(model.parameters(), lr=0.001)\n",
    "    model.train()\n",
    "    epochs = 200\n",
    "    for epoch in range(epochs):\n",
    "        out = model(data)\n",
    "        predictions = torch.argmax(out, dim=1)\n",
    "        loss = F.cross_entropy(out[train_mask], data.y[train_mask])\n",
    "        loss.backward()\n",
    "        optimizer.step()\n",
    "        train_acc = (predictions[train_mask] ==\n",
    "                     data.y[train_mask]).sum() / len(train_mask)\n",
    "        test_acc = (predictions[test_mask] ==\n",
    "                    data.y[test_mask]).sum() / len(test_mask)\n",
    "        print(\n",
    "            f'Epoch: {epoch} - Loss: {loss} - Train Accuracy: {train_acc} - Test Accuracy: {test_acc}')\n",
    "\n",
    "\n"
   ]
  },
  {
   "cell_type": "code",
   "execution_count": 8,
   "metadata": {},
   "outputs": [
    {
     "name": "stdout",
     "output_type": "stream",
     "text": [
      "Epoch: 0 - Loss: 3.4639623165130615 - Train Accuracy: 0.06290927529335022 - Test Accuracy: 0.06025750935077667\n",
      "Epoch: 1 - Loss: 2.565330743789673 - Train Accuracy: 0.3464057147502899 - Test Accuracy: 0.340600848197937\n",
      "Epoch: 2 - Loss: 2.0675501823425293 - Train Accuracy: 0.4954749345779419 - Test Accuracy: 0.490128755569458\n",
      "Epoch: 3 - Loss: 1.7654895782470703 - Train Accuracy: 0.5600765347480774 - Test Accuracy: 0.5486695170402527\n",
      "Epoch: 4 - Loss: 1.5541701316833496 - Train Accuracy: 0.595909059047699 - Test Accuracy: 0.5922746658325195\n",
      "Epoch: 5 - Loss: 1.3951432704925537 - Train Accuracy: 0.6290192008018494 - Test Accuracy: 0.6188841462135315\n",
      "Epoch: 6 - Loss: 1.279425024986267 - Train Accuracy: 0.6530792713165283 - Test Accuracy: 0.646180272102356\n",
      "Epoch: 7 - Loss: 1.1992542743682861 - Train Accuracy: 0.6714737415313721 - Test Accuracy: 0.6568240523338318\n",
      "Epoch: 8 - Loss: 1.1407732963562012 - Train Accuracy: 0.6810389161109924 - Test Accuracy: 0.6674678325653076\n",
      "Epoch: 9 - Loss: 1.0901719331741333 - Train Accuracy: 0.6973732709884644 - Test Accuracy: 0.6798283457756042\n",
      "Epoch: 10 - Loss: 1.0461854934692383 - Train Accuracy: 0.7120153307914734 - Test Accuracy: 0.6956223249435425\n",
      "Epoch: 11 - Loss: 1.0096912384033203 - Train Accuracy: 0.721801221370697 - Test Accuracy: 0.703175961971283\n",
      "Epoch: 12 - Loss: 0.9798334240913391 - Train Accuracy: 0.7312927842140198 - Test Accuracy: 0.7100428938865662\n",
      "Epoch: 13 - Loss: 0.955437183380127 - Train Accuracy: 0.7399014234542847 - Test Accuracy: 0.7165665030479431\n",
      "Epoch: 14 - Loss: 0.9346133470535278 - Train Accuracy: 0.7451990246772766 - Test Accuracy: 0.7249785661697388\n",
      "Epoch: 15 - Loss: 0.9156823754310608 - Train Accuracy: 0.7494665384292603 - Test Accuracy: 0.7321888208389282\n",
      "Epoch: 16 - Loss: 0.8986899256706238 - Train Accuracy: 0.7495401501655579 - Test Accuracy: 0.7342489361763\n",
      "Epoch: 17 - Loss: 0.8831139206886292 - Train Accuracy: 0.7511588335037231 - Test Accuracy: 0.7368240356445312\n",
      "Epoch: 18 - Loss: 0.8685473799705505 - Train Accuracy: 0.7560150027275085 - Test Accuracy: 0.742832601070404\n",
      "Epoch: 19 - Loss: 0.8584792613983154 - Train Accuracy: 0.7615333795547485 - Test Accuracy: 0.7498712539672852\n",
      "Epoch: 20 - Loss: 0.8577442765235901 - Train Accuracy: 0.7639614343643188 - Test Accuracy: 0.7531330585479736\n",
      "Epoch: 21 - Loss: 0.8695387840270996 - Train Accuracy: 0.7635200023651123 - Test Accuracy: 0.7517596483230591\n",
      "Epoch: 22 - Loss: 0.8941283822059631 - Train Accuracy: 0.7590317130088806 - Test Accuracy: 0.7459227442741394\n",
      "Epoch: 23 - Loss: 0.9303523898124695 - Train Accuracy: 0.7499815821647644 - Test Accuracy: 0.736137330532074\n",
      "Epoch: 24 - Loss: 0.9742964506149292 - Train Accuracy: 0.7360753417015076 - Test Accuracy: 0.7230901122093201\n",
      "Epoch: 25 - Loss: 1.0200390815734863 - Train Accuracy: 0.7227576971054077 - Test Accuracy: 0.711759626865387\n",
      "Epoch: 26 - Loss: 1.0601886510849 - Train Accuracy: 0.7094400525093079 - Test Accuracy: 0.7002575397491455\n",
      "Epoch: 27 - Loss: 1.0875577926635742 - Train Accuracy: 0.7006106972694397 - Test Accuracy: 0.6940772533416748\n"
     ]
    },
    {
     "ename": "KeyboardInterrupt",
     "evalue": "",
     "output_type": "error",
     "traceback": [
      "\u001b[1;31m---------------------------------------------------------------------------\u001b[0m",
      "\u001b[1;31mKeyboardInterrupt\u001b[0m                         Traceback (most recent call last)",
      "\u001b[1;32m~\\AppData\\Local\\Temp/ipykernel_18396/662274991.py\u001b[0m in \u001b[0;36m<module>\u001b[1;34m\u001b[0m\n\u001b[0;32m     15\u001b[0m \u001b[0mmodel\u001b[0m \u001b[1;33m=\u001b[0m \u001b[0mmodel\u001b[0m\u001b[1;33m.\u001b[0m\u001b[0mto\u001b[0m\u001b[1;33m(\u001b[0m\u001b[0mdevice\u001b[0m\u001b[1;33m)\u001b[0m\u001b[1;33m\u001b[0m\u001b[1;33m\u001b[0m\u001b[0m\n\u001b[0;32m     16\u001b[0m \u001b[1;33m\u001b[0m\u001b[0m\n\u001b[1;32m---> 17\u001b[1;33m \u001b[0mtrain\u001b[0m\u001b[1;33m(\u001b[0m\u001b[0mmodel\u001b[0m\u001b[1;33m,\u001b[0m \u001b[0mdata\u001b[0m\u001b[1;33m,\u001b[0m \u001b[0mtrain_mask\u001b[0m\u001b[1;33m,\u001b[0m \u001b[0mtest_mask\u001b[0m\u001b[1;33m)\u001b[0m\u001b[1;33m\u001b[0m\u001b[1;33m\u001b[0m\u001b[0m\n\u001b[0m",
      "\u001b[1;32m~\\AppData\\Local\\Temp/ipykernel_18396/4179725946.py\u001b[0m in \u001b[0;36mtrain\u001b[1;34m(model, data, train_mask, test_mask)\u001b[0m\n\u001b[0;32m     25\u001b[0m         \u001b[0mpredictions\u001b[0m \u001b[1;33m=\u001b[0m \u001b[0mtorch\u001b[0m\u001b[1;33m.\u001b[0m\u001b[0margmax\u001b[0m\u001b[1;33m(\u001b[0m\u001b[0mout\u001b[0m\u001b[1;33m,\u001b[0m \u001b[0mdim\u001b[0m\u001b[1;33m=\u001b[0m\u001b[1;36m1\u001b[0m\u001b[1;33m)\u001b[0m\u001b[1;33m\u001b[0m\u001b[1;33m\u001b[0m\u001b[0m\n\u001b[0;32m     26\u001b[0m         \u001b[0mloss\u001b[0m \u001b[1;33m=\u001b[0m \u001b[0mF\u001b[0m\u001b[1;33m.\u001b[0m\u001b[0mcross_entropy\u001b[0m\u001b[1;33m(\u001b[0m\u001b[0mout\u001b[0m\u001b[1;33m[\u001b[0m\u001b[0mtrain_mask\u001b[0m\u001b[1;33m]\u001b[0m\u001b[1;33m,\u001b[0m \u001b[0mdata\u001b[0m\u001b[1;33m.\u001b[0m\u001b[0my\u001b[0m\u001b[1;33m[\u001b[0m\u001b[0mtrain_mask\u001b[0m\u001b[1;33m]\u001b[0m\u001b[1;33m)\u001b[0m\u001b[1;33m\u001b[0m\u001b[1;33m\u001b[0m\u001b[0m\n\u001b[1;32m---> 27\u001b[1;33m         \u001b[0mloss\u001b[0m\u001b[1;33m.\u001b[0m\u001b[0mbackward\u001b[0m\u001b[1;33m(\u001b[0m\u001b[1;33m)\u001b[0m\u001b[1;33m\u001b[0m\u001b[1;33m\u001b[0m\u001b[0m\n\u001b[0m\u001b[0;32m     28\u001b[0m         \u001b[0moptimizer\u001b[0m\u001b[1;33m.\u001b[0m\u001b[0mstep\u001b[0m\u001b[1;33m(\u001b[0m\u001b[1;33m)\u001b[0m\u001b[1;33m\u001b[0m\u001b[1;33m\u001b[0m\u001b[0m\n\u001b[0;32m     29\u001b[0m         train_acc = (predictions[train_mask] ==\n",
      "\u001b[1;32m~\\anaconda3\\lib\\site-packages\\torch\\_tensor.py\u001b[0m in \u001b[0;36mbackward\u001b[1;34m(self, gradient, retain_graph, create_graph, inputs)\u001b[0m\n\u001b[0;32m    305\u001b[0m                 \u001b[0mcreate_graph\u001b[0m\u001b[1;33m=\u001b[0m\u001b[0mcreate_graph\u001b[0m\u001b[1;33m,\u001b[0m\u001b[1;33m\u001b[0m\u001b[1;33m\u001b[0m\u001b[0m\n\u001b[0;32m    306\u001b[0m                 inputs=inputs)\n\u001b[1;32m--> 307\u001b[1;33m         \u001b[0mtorch\u001b[0m\u001b[1;33m.\u001b[0m\u001b[0mautograd\u001b[0m\u001b[1;33m.\u001b[0m\u001b[0mbackward\u001b[0m\u001b[1;33m(\u001b[0m\u001b[0mself\u001b[0m\u001b[1;33m,\u001b[0m \u001b[0mgradient\u001b[0m\u001b[1;33m,\u001b[0m \u001b[0mretain_graph\u001b[0m\u001b[1;33m,\u001b[0m \u001b[0mcreate_graph\u001b[0m\u001b[1;33m,\u001b[0m \u001b[0minputs\u001b[0m\u001b[1;33m=\u001b[0m\u001b[0minputs\u001b[0m\u001b[1;33m)\u001b[0m\u001b[1;33m\u001b[0m\u001b[1;33m\u001b[0m\u001b[0m\n\u001b[0m\u001b[0;32m    308\u001b[0m \u001b[1;33m\u001b[0m\u001b[0m\n\u001b[0;32m    309\u001b[0m     \u001b[1;32mdef\u001b[0m \u001b[0mregister_hook\u001b[0m\u001b[1;33m(\u001b[0m\u001b[0mself\u001b[0m\u001b[1;33m,\u001b[0m \u001b[0mhook\u001b[0m\u001b[1;33m)\u001b[0m\u001b[1;33m:\u001b[0m\u001b[1;33m\u001b[0m\u001b[1;33m\u001b[0m\u001b[0m\n",
      "\u001b[1;32m~\\anaconda3\\lib\\site-packages\\torch\\autograd\\__init__.py\u001b[0m in \u001b[0;36mbackward\u001b[1;34m(tensors, grad_tensors, retain_graph, create_graph, grad_variables, inputs)\u001b[0m\n\u001b[0;32m    152\u001b[0m         \u001b[0mretain_graph\u001b[0m \u001b[1;33m=\u001b[0m \u001b[0mcreate_graph\u001b[0m\u001b[1;33m\u001b[0m\u001b[1;33m\u001b[0m\u001b[0m\n\u001b[0;32m    153\u001b[0m \u001b[1;33m\u001b[0m\u001b[0m\n\u001b[1;32m--> 154\u001b[1;33m     Variable._execution_engine.run_backward(\n\u001b[0m\u001b[0;32m    155\u001b[0m         \u001b[0mtensors\u001b[0m\u001b[1;33m,\u001b[0m \u001b[0mgrad_tensors_\u001b[0m\u001b[1;33m,\u001b[0m \u001b[0mretain_graph\u001b[0m\u001b[1;33m,\u001b[0m \u001b[0mcreate_graph\u001b[0m\u001b[1;33m,\u001b[0m \u001b[0minputs\u001b[0m\u001b[1;33m,\u001b[0m\u001b[1;33m\u001b[0m\u001b[1;33m\u001b[0m\u001b[0m\n\u001b[0;32m    156\u001b[0m         allow_unreachable=True, accumulate_grad=True)  # allow_unreachable flag\n",
      "\u001b[1;31mKeyboardInterrupt\u001b[0m: "
     ]
    }
   ],
   "source": [
    "device = 'cpu'\n",
    "\n",
    "# Build the graph for the invariant GNN\n",
    "edge_index, edge_attr = from_scipy_sparse_matrix(\n",
    "    adata.obsp['spatial_distances'])\n",
    "edge_attr = edge_attr.view(-1, 1).float()\n",
    "x_index, x_values = from_scipy_sparse_matrix(adata.X)\n",
    "x = torch.sparse_coo_tensor(x_index, x_values)\n",
    "y = torch.tensor(labels, dtype=torch.long)\n",
    "data = Data(edge_index=edge_index, edge_attr=edge_attr, x=x, y=y)\n",
    "data = data.to(device)\n",
    "\n",
    "# Invariant GNN model\n",
    "model = MPNNModel(in_dim=adata.X.shape[1], out_dim=max(labels)+1, edge_dim=1, num_layers=2, emb_dim=128)\n",
    "model = model.to(device)\n",
    "\n",
    "train(model, data, train_mask, test_mask)\n"
   ]
  },
  {
   "cell_type": "code",
   "execution_count": 4,
   "metadata": {},
   "outputs": [
    {
     "name": "stdout",
     "output_type": "stream",
     "text": [
      "Epoch: 0 - Loss: 3.968172073364258 - Train Accuracy: 0.03311014547944069 - Test Accuracy: 0.03673819825053215\n",
      "Epoch: 1 - Loss: 3.0775532722473145 - Train Accuracy: 0.11242733895778656 - Test Accuracy: 0.11090128868818283\n",
      "Epoch: 2 - Loss: 2.5385422706604004 - Train Accuracy: 0.3053491413593292 - Test Accuracy: 0.3009442090988159\n",
      "Epoch: 3 - Loss: 2.2040483951568604 - Train Accuracy: 0.4374954104423523 - Test Accuracy: 0.43690988421440125\n",
      "Epoch: 4 - Loss: 1.9733129739761353 - Train Accuracy: 0.5188727974891663 - Test Accuracy: 0.5150214433670044\n",
      "Epoch: 5 - Loss: 1.8016785383224487 - Train Accuracy: 0.5646383762359619 - Test Accuracy: 0.5562231540679932\n",
      "Epoch: 6 - Loss: 1.6676913499832153 - Train Accuracy: 0.5854609608650208 - Test Accuracy: 0.5764806866645813\n",
      "Epoch: 7 - Loss: 1.56126868724823 - Train Accuracy: 0.5996615290641785 - Test Accuracy: 0.5907295942306519\n",
      "Epoch: 8 - Loss: 1.4780988693237305 - Train Accuracy: 0.6146714687347412 - Test Accuracy: 0.6005150079727173\n",
      "Epoch: 9 - Loss: 1.4165624380111694 - Train Accuracy: 0.6240894794464111 - Test Accuracy: 0.6078969836235046\n",
      "Epoch: 10 - Loss: 1.372684359550476 - Train Accuracy: 0.6287984848022461 - Test Accuracy: 0.6128755211830139\n",
      "Epoch: 11 - Loss: 1.3400486707687378 - Train Accuracy: 0.6359355449676514 - Test Accuracy: 0.6202574968338013\n",
      "Epoch: 12 - Loss: 1.3130460977554321 - Train Accuracy: 0.6428518891334534 - Test Accuracy: 0.6293562054634094\n",
      "Epoch: 13 - Loss: 1.2869356870651245 - Train Accuracy: 0.6505039930343628 - Test Accuracy: 0.6363948583602905\n",
      "Epoch: 14 - Loss: 1.2584089040756226 - Train Accuracy: 0.6571996212005615 - Test Accuracy: 0.6387982964515686\n",
      "Epoch: 15 - Loss: 1.2264407873153687 - Train Accuracy: 0.6638216376304626 - Test Accuracy: 0.648240327835083\n",
      "Epoch: 16 - Loss: 1.1915128231048584 - Train Accuracy: 0.673386812210083 - Test Accuracy: 0.6566523313522339\n",
      "Epoch: 17 - Loss: 1.1554760932922363 - Train Accuracy: 0.6854535937309265 - Test Accuracy: 0.6669527888298035\n",
      "Epoch: 18 - Loss: 1.1209770441055298 - Train Accuracy: 0.6967846155166626 - Test Accuracy: 0.6775965690612793\n",
      "Epoch: 19 - Loss: 1.0916576385498047 - Train Accuracy: 0.7059082984924316 - Test Accuracy: 0.6865236163139343\n",
      "Epoch: 20 - Loss: 1.0697911977767944 - Train Accuracy: 0.7117210030555725 - Test Accuracy: 0.6928755640983582\n",
      "Epoch: 21 - Loss: 1.0543934106826782 - Train Accuracy: 0.7137076258659363 - Test Accuracy: 0.6990557909011841\n",
      "Epoch: 22 - Loss: 1.0432850122451782 - Train Accuracy: 0.7148112654685974 - Test Accuracy: 0.7011159062385559\n",
      "Epoch: 23 - Loss: 1.0336474180221558 - Train Accuracy: 0.7184165716171265 - Test Accuracy: 0.7047210335731506\n",
      "Epoch: 24 - Loss: 1.0234477519989014 - Train Accuracy: 0.7223162651062012 - Test Accuracy: 0.7091845273971558\n",
      "Epoch: 25 - Loss: 1.0123149156570435 - Train Accuracy: 0.7211390137672424 - Test Accuracy: 0.7146781086921692\n",
      "Epoch: 26 - Loss: 1.0009284019470215 - Train Accuracy: 0.7205503582954407 - Test Accuracy: 0.7172532081604004\n",
      "Epoch: 27 - Loss: 0.9900123476982117 - Train Accuracy: 0.7183430194854736 - Test Accuracy: 0.7184549570083618\n",
      "Epoch: 28 - Loss: 0.9793006777763367 - Train Accuracy: 0.7196674346923828 - Test Accuracy: 0.7182832360267639\n",
      "Epoch: 29 - Loss: 0.9694762825965881 - Train Accuracy: 0.7182694673538208 - Test Accuracy: 0.71639484167099\n",
      "Epoch: 30 - Loss: 0.9617795348167419 - Train Accuracy: 0.7208446860313416 - Test Accuracy: 0.7193133234977722\n",
      "Epoch: 31 - Loss: 0.9580332636833191 - Train Accuracy: 0.7265101671218872 - Test Accuracy: 0.725321888923645\n",
      "Epoch: 32 - Loss: 0.960170328617096 - Train Accuracy: 0.7335001230239868 - Test Accuracy: 0.7294420599937439\n",
      "Epoch: 33 - Loss: 0.9695780277252197 - Train Accuracy: 0.7362960577011108 - Test Accuracy: 0.731845498085022\n",
      "Epoch: 34 - Loss: 0.9857137799263 - Train Accuracy: 0.7366639971733093 - Test Accuracy: 0.7303004264831543\n",
      "Epoch: 35 - Loss: 1.006576418876648 - Train Accuracy: 0.7422559261322021 - Test Accuracy: 0.729613721370697\n",
      "Epoch: 36 - Loss: 1.0299744606018066 - Train Accuracy: 0.7379148006439209 - Test Accuracy: 0.7285836935043335\n"
     ]
    },
    {
     "ename": "KeyboardInterrupt",
     "evalue": "",
     "output_type": "error",
     "traceback": [
      "\u001b[1;31m---------------------------------------------------------------------------\u001b[0m",
      "\u001b[1;31mKeyboardInterrupt\u001b[0m                         Traceback (most recent call last)",
      "\u001b[1;32m~\\AppData\\Local\\Temp/ipykernel_18396/2595900440.py\u001b[0m in \u001b[0;36m<module>\u001b[1;34m\u001b[0m\n\u001b[0;32m     17\u001b[0m \u001b[0mmodel\u001b[0m \u001b[1;33m=\u001b[0m \u001b[0mmodel\u001b[0m\u001b[1;33m.\u001b[0m\u001b[0mto\u001b[0m\u001b[1;33m(\u001b[0m\u001b[0mdevice\u001b[0m\u001b[1;33m)\u001b[0m\u001b[1;33m\u001b[0m\u001b[1;33m\u001b[0m\u001b[0m\n\u001b[0;32m     18\u001b[0m \u001b[1;33m\u001b[0m\u001b[0m\n\u001b[1;32m---> 19\u001b[1;33m \u001b[0mtrain\u001b[0m\u001b[1;33m(\u001b[0m\u001b[0mmodel\u001b[0m\u001b[1;33m,\u001b[0m \u001b[0mdata\u001b[0m\u001b[1;33m,\u001b[0m \u001b[0mtrain_mask\u001b[0m\u001b[1;33m,\u001b[0m \u001b[0mtest_mask\u001b[0m\u001b[1;33m)\u001b[0m\u001b[1;33m\u001b[0m\u001b[1;33m\u001b[0m\u001b[0m\n\u001b[0m",
      "\u001b[1;32m~\\AppData\\Local\\Temp/ipykernel_18396/4179725946.py\u001b[0m in \u001b[0;36mtrain\u001b[1;34m(model, data, train_mask, test_mask)\u001b[0m\n\u001b[0;32m     22\u001b[0m     \u001b[0mepochs\u001b[0m \u001b[1;33m=\u001b[0m \u001b[1;36m200\u001b[0m\u001b[1;33m\u001b[0m\u001b[1;33m\u001b[0m\u001b[0m\n\u001b[0;32m     23\u001b[0m     \u001b[1;32mfor\u001b[0m \u001b[0mepoch\u001b[0m \u001b[1;32min\u001b[0m \u001b[0mrange\u001b[0m\u001b[1;33m(\u001b[0m\u001b[0mepochs\u001b[0m\u001b[1;33m)\u001b[0m\u001b[1;33m:\u001b[0m\u001b[1;33m\u001b[0m\u001b[1;33m\u001b[0m\u001b[0m\n\u001b[1;32m---> 24\u001b[1;33m         \u001b[0mout\u001b[0m \u001b[1;33m=\u001b[0m \u001b[0mmodel\u001b[0m\u001b[1;33m(\u001b[0m\u001b[0mdata\u001b[0m\u001b[1;33m)\u001b[0m\u001b[1;33m\u001b[0m\u001b[1;33m\u001b[0m\u001b[0m\n\u001b[0m\u001b[0;32m     25\u001b[0m         \u001b[0mpredictions\u001b[0m \u001b[1;33m=\u001b[0m \u001b[0mtorch\u001b[0m\u001b[1;33m.\u001b[0m\u001b[0margmax\u001b[0m\u001b[1;33m(\u001b[0m\u001b[0mout\u001b[0m\u001b[1;33m,\u001b[0m \u001b[0mdim\u001b[0m\u001b[1;33m=\u001b[0m\u001b[1;36m1\u001b[0m\u001b[1;33m)\u001b[0m\u001b[1;33m\u001b[0m\u001b[1;33m\u001b[0m\u001b[0m\n\u001b[0;32m     26\u001b[0m         \u001b[0mloss\u001b[0m \u001b[1;33m=\u001b[0m \u001b[0mF\u001b[0m\u001b[1;33m.\u001b[0m\u001b[0mcross_entropy\u001b[0m\u001b[1;33m(\u001b[0m\u001b[0mout\u001b[0m\u001b[1;33m[\u001b[0m\u001b[0mtrain_mask\u001b[0m\u001b[1;33m]\u001b[0m\u001b[1;33m,\u001b[0m \u001b[0mdata\u001b[0m\u001b[1;33m.\u001b[0m\u001b[0my\u001b[0m\u001b[1;33m[\u001b[0m\u001b[0mtrain_mask\u001b[0m\u001b[1;33m]\u001b[0m\u001b[1;33m)\u001b[0m\u001b[1;33m\u001b[0m\u001b[1;33m\u001b[0m\u001b[0m\n",
      "\u001b[1;32m~\\anaconda3\\lib\\site-packages\\torch\\nn\\modules\\module.py\u001b[0m in \u001b[0;36m_call_impl\u001b[1;34m(self, *input, **kwargs)\u001b[0m\n\u001b[0;32m   1100\u001b[0m         if not (self._backward_hooks or self._forward_hooks or self._forward_pre_hooks or _global_backward_hooks\n\u001b[0;32m   1101\u001b[0m                 or _global_forward_hooks or _global_forward_pre_hooks):\n\u001b[1;32m-> 1102\u001b[1;33m             \u001b[1;32mreturn\u001b[0m \u001b[0mforward_call\u001b[0m\u001b[1;33m(\u001b[0m\u001b[1;33m*\u001b[0m\u001b[0minput\u001b[0m\u001b[1;33m,\u001b[0m \u001b[1;33m**\u001b[0m\u001b[0mkwargs\u001b[0m\u001b[1;33m)\u001b[0m\u001b[1;33m\u001b[0m\u001b[1;33m\u001b[0m\u001b[0m\n\u001b[0m\u001b[0;32m   1103\u001b[0m         \u001b[1;31m# Do not call functions when jit is used\u001b[0m\u001b[1;33m\u001b[0m\u001b[1;33m\u001b[0m\u001b[0m\n\u001b[0;32m   1104\u001b[0m         \u001b[0mfull_backward_hooks\u001b[0m\u001b[1;33m,\u001b[0m \u001b[0mnon_full_backward_hooks\u001b[0m \u001b[1;33m=\u001b[0m \u001b[1;33m[\u001b[0m\u001b[1;33m]\u001b[0m\u001b[1;33m,\u001b[0m \u001b[1;33m[\u001b[0m\u001b[1;33m]\u001b[0m\u001b[1;33m\u001b[0m\u001b[1;33m\u001b[0m\u001b[0m\n",
      "\u001b[1;32mc:\\Users\\pedro\\Desktop\\Cambridge\\L45\\GNN.py\u001b[0m in \u001b[0;36mforward\u001b[1;34m(self, data)\u001b[0m\n\u001b[0;32m     43\u001b[0m         \u001b[1;32mfor\u001b[0m \u001b[0mconv\u001b[0m \u001b[1;32min\u001b[0m \u001b[0mself\u001b[0m\u001b[1;33m.\u001b[0m\u001b[0mconvs\u001b[0m\u001b[1;33m:\u001b[0m\u001b[1;33m\u001b[0m\u001b[1;33m\u001b[0m\u001b[0m\n\u001b[0;32m     44\u001b[0m             \u001b[1;31m# (n, d) -> (n, d)\u001b[0m\u001b[1;33m\u001b[0m\u001b[1;33m\u001b[0m\u001b[0m\n\u001b[1;32m---> 45\u001b[1;33m             \u001b[0mh\u001b[0m \u001b[1;33m=\u001b[0m \u001b[0mh\u001b[0m \u001b[1;33m+\u001b[0m \u001b[0mconv\u001b[0m\u001b[1;33m(\u001b[0m\u001b[0mh\u001b[0m\u001b[1;33m,\u001b[0m \u001b[0mdata\u001b[0m\u001b[1;33m.\u001b[0m\u001b[0medge_index\u001b[0m\u001b[1;33m,\u001b[0m \u001b[0mdata\u001b[0m\u001b[1;33m.\u001b[0m\u001b[0medge_attr\u001b[0m\u001b[1;33m)\u001b[0m\u001b[1;33m\u001b[0m\u001b[1;33m\u001b[0m\u001b[0m\n\u001b[0m\u001b[0;32m     46\u001b[0m             \u001b[1;31m# Note that we add a residual connection after each MPNN layer\u001b[0m\u001b[1;33m\u001b[0m\u001b[1;33m\u001b[0m\u001b[0m\n\u001b[0;32m     47\u001b[0m \u001b[1;33m\u001b[0m\u001b[0m\n",
      "\u001b[1;32m~\\anaconda3\\lib\\site-packages\\torch\\nn\\modules\\module.py\u001b[0m in \u001b[0;36m_call_impl\u001b[1;34m(self, *input, **kwargs)\u001b[0m\n\u001b[0;32m   1100\u001b[0m         if not (self._backward_hooks or self._forward_hooks or self._forward_pre_hooks or _global_backward_hooks\n\u001b[0;32m   1101\u001b[0m                 or _global_forward_hooks or _global_forward_pre_hooks):\n\u001b[1;32m-> 1102\u001b[1;33m             \u001b[1;32mreturn\u001b[0m \u001b[0mforward_call\u001b[0m\u001b[1;33m(\u001b[0m\u001b[1;33m*\u001b[0m\u001b[0minput\u001b[0m\u001b[1;33m,\u001b[0m \u001b[1;33m**\u001b[0m\u001b[0mkwargs\u001b[0m\u001b[1;33m)\u001b[0m\u001b[1;33m\u001b[0m\u001b[1;33m\u001b[0m\u001b[0m\n\u001b[0m\u001b[0;32m   1103\u001b[0m         \u001b[1;31m# Do not call functions when jit is used\u001b[0m\u001b[1;33m\u001b[0m\u001b[1;33m\u001b[0m\u001b[0m\n\u001b[0;32m   1104\u001b[0m         \u001b[0mfull_backward_hooks\u001b[0m\u001b[1;33m,\u001b[0m \u001b[0mnon_full_backward_hooks\u001b[0m \u001b[1;33m=\u001b[0m \u001b[1;33m[\u001b[0m\u001b[1;33m]\u001b[0m\u001b[1;33m,\u001b[0m \u001b[1;33m[\u001b[0m\u001b[1;33m]\u001b[0m\u001b[1;33m\u001b[0m\u001b[1;33m\u001b[0m\u001b[0m\n",
      "\u001b[1;32mc:\\Users\\pedro\\Desktop\\Cambridge\\L45\\MPNNLayer.py\u001b[0m in \u001b[0;36mforward\u001b[1;34m(self, h, edge_index, edge_attr)\u001b[0m\n\u001b[0;32m     50\u001b[0m             \u001b[0mout\u001b[0m\u001b[1;33m:\u001b[0m \u001b[1;33m(\u001b[0m\u001b[0mn\u001b[0m\u001b[1;33m,\u001b[0m \u001b[0md\u001b[0m\u001b[1;33m)\u001b[0m \u001b[1;33m-\u001b[0m \u001b[0mupdated\u001b[0m \u001b[0mnode\u001b[0m \u001b[0mfeatures\u001b[0m\u001b[1;33m\u001b[0m\u001b[1;33m\u001b[0m\u001b[0m\n\u001b[0;32m     51\u001b[0m         \"\"\"\n\u001b[1;32m---> 52\u001b[1;33m         \u001b[0mout\u001b[0m \u001b[1;33m=\u001b[0m \u001b[0mself\u001b[0m\u001b[1;33m.\u001b[0m\u001b[0mpropagate\u001b[0m\u001b[1;33m(\u001b[0m\u001b[0medge_index\u001b[0m\u001b[1;33m,\u001b[0m \u001b[0mh\u001b[0m\u001b[1;33m=\u001b[0m\u001b[0mh\u001b[0m\u001b[1;33m,\u001b[0m \u001b[0medge_attr\u001b[0m\u001b[1;33m=\u001b[0m\u001b[0medge_attr\u001b[0m\u001b[1;33m)\u001b[0m\u001b[1;33m\u001b[0m\u001b[1;33m\u001b[0m\u001b[0m\n\u001b[0m\u001b[0;32m     53\u001b[0m         \u001b[1;32mreturn\u001b[0m \u001b[0mout\u001b[0m\u001b[1;33m\u001b[0m\u001b[1;33m\u001b[0m\u001b[0m\n\u001b[0;32m     54\u001b[0m \u001b[1;33m\u001b[0m\u001b[0m\n",
      "\u001b[1;32m~\\anaconda3\\lib\\site-packages\\torch_geometric\\nn\\conv\\message_passing.py\u001b[0m in \u001b[0;36mpropagate\u001b[1;34m(self, edge_index, size, **kwargs)\u001b[0m\n\u001b[0;32m    332\u001b[0m                     \u001b[1;32mif\u001b[0m \u001b[0mres\u001b[0m \u001b[1;32mis\u001b[0m \u001b[1;32mnot\u001b[0m \u001b[1;32mNone\u001b[0m\u001b[1;33m:\u001b[0m\u001b[1;33m\u001b[0m\u001b[1;33m\u001b[0m\u001b[0m\n\u001b[0;32m    333\u001b[0m                         \u001b[0maggr_kwargs\u001b[0m \u001b[1;33m=\u001b[0m \u001b[0mres\u001b[0m\u001b[1;33m[\u001b[0m\u001b[1;36m0\u001b[0m\u001b[1;33m]\u001b[0m \u001b[1;32mif\u001b[0m \u001b[0misinstance\u001b[0m\u001b[1;33m(\u001b[0m\u001b[0mres\u001b[0m\u001b[1;33m,\u001b[0m \u001b[0mtuple\u001b[0m\u001b[1;33m)\u001b[0m \u001b[1;32melse\u001b[0m \u001b[0mres\u001b[0m\u001b[1;33m\u001b[0m\u001b[1;33m\u001b[0m\u001b[0m\n\u001b[1;32m--> 334\u001b[1;33m                 \u001b[0mout\u001b[0m \u001b[1;33m=\u001b[0m \u001b[0mself\u001b[0m\u001b[1;33m.\u001b[0m\u001b[0maggregate\u001b[0m\u001b[1;33m(\u001b[0m\u001b[0mout\u001b[0m\u001b[1;33m,\u001b[0m \u001b[1;33m**\u001b[0m\u001b[0maggr_kwargs\u001b[0m\u001b[1;33m)\u001b[0m\u001b[1;33m\u001b[0m\u001b[1;33m\u001b[0m\u001b[0m\n\u001b[0m\u001b[0;32m    335\u001b[0m                 \u001b[1;32mfor\u001b[0m \u001b[0mhook\u001b[0m \u001b[1;32min\u001b[0m \u001b[0mself\u001b[0m\u001b[1;33m.\u001b[0m\u001b[0m_aggregate_forward_hooks\u001b[0m\u001b[1;33m.\u001b[0m\u001b[0mvalues\u001b[0m\u001b[1;33m(\u001b[0m\u001b[1;33m)\u001b[0m\u001b[1;33m:\u001b[0m\u001b[1;33m\u001b[0m\u001b[1;33m\u001b[0m\u001b[0m\n\u001b[0;32m    336\u001b[0m                     \u001b[0mres\u001b[0m \u001b[1;33m=\u001b[0m \u001b[0mhook\u001b[0m\u001b[1;33m(\u001b[0m\u001b[0mself\u001b[0m\u001b[1;33m,\u001b[0m \u001b[1;33m(\u001b[0m\u001b[0maggr_kwargs\u001b[0m\u001b[1;33m,\u001b[0m \u001b[1;33m)\u001b[0m\u001b[1;33m,\u001b[0m \u001b[0mout\u001b[0m\u001b[1;33m)\u001b[0m\u001b[1;33m\u001b[0m\u001b[1;33m\u001b[0m\u001b[0m\n",
      "\u001b[1;32mc:\\Users\\pedro\\Desktop\\Cambridge\\L45\\MPNNLayer.py\u001b[0m in \u001b[0;36maggregate\u001b[1;34m(self, inputs, index)\u001b[0m\n\u001b[0;32m     79\u001b[0m             \u001b[0maggr_out\u001b[0m\u001b[1;33m:\u001b[0m \u001b[1;33m(\u001b[0m\u001b[0mn\u001b[0m\u001b[1;33m,\u001b[0m \u001b[0md\u001b[0m\u001b[1;33m)\u001b[0m \u001b[1;33m-\u001b[0m \u001b[0maggregated\u001b[0m \u001b[0mmessages\u001b[0m\u001b[0;31m \u001b[0m\u001b[0;31m`\u001b[0m\u001b[0mm_i\u001b[0m\u001b[0;31m`\u001b[0m\u001b[1;33m\u001b[0m\u001b[1;33m\u001b[0m\u001b[0m\n\u001b[0;32m     80\u001b[0m         \"\"\"\n\u001b[1;32m---> 81\u001b[1;33m         \u001b[1;32mreturn\u001b[0m \u001b[0mscatter\u001b[0m\u001b[1;33m(\u001b[0m\u001b[0minputs\u001b[0m\u001b[1;33m,\u001b[0m \u001b[0mindex\u001b[0m\u001b[1;33m,\u001b[0m \u001b[0mdim\u001b[0m\u001b[1;33m=\u001b[0m\u001b[0mself\u001b[0m\u001b[1;33m.\u001b[0m\u001b[0mnode_dim\u001b[0m\u001b[1;33m,\u001b[0m \u001b[0mreduce\u001b[0m\u001b[1;33m=\u001b[0m\u001b[0mself\u001b[0m\u001b[1;33m.\u001b[0m\u001b[0maggr\u001b[0m\u001b[1;33m)\u001b[0m\u001b[1;33m\u001b[0m\u001b[1;33m\u001b[0m\u001b[0m\n\u001b[0m\u001b[0;32m     82\u001b[0m \u001b[1;33m\u001b[0m\u001b[0m\n\u001b[0;32m     83\u001b[0m     \u001b[1;32mdef\u001b[0m \u001b[0mupdate\u001b[0m\u001b[1;33m(\u001b[0m\u001b[0mself\u001b[0m\u001b[1;33m,\u001b[0m \u001b[0maggr_out\u001b[0m\u001b[1;33m,\u001b[0m \u001b[0mh\u001b[0m\u001b[1;33m)\u001b[0m\u001b[1;33m:\u001b[0m\u001b[1;33m\u001b[0m\u001b[1;33m\u001b[0m\u001b[0m\n",
      "\u001b[1;32m~\\anaconda3\\lib\\site-packages\\torch_scatter\\scatter.py\u001b[0m in \u001b[0;36mscatter\u001b[1;34m(src, index, dim, out, dim_size, reduce)\u001b[0m\n\u001b[0;32m    150\u001b[0m     \"\"\"\n\u001b[0;32m    151\u001b[0m     \u001b[1;32mif\u001b[0m \u001b[0mreduce\u001b[0m \u001b[1;33m==\u001b[0m \u001b[1;34m'sum'\u001b[0m \u001b[1;32mor\u001b[0m \u001b[0mreduce\u001b[0m \u001b[1;33m==\u001b[0m \u001b[1;34m'add'\u001b[0m\u001b[1;33m:\u001b[0m\u001b[1;33m\u001b[0m\u001b[1;33m\u001b[0m\u001b[0m\n\u001b[1;32m--> 152\u001b[1;33m         \u001b[1;32mreturn\u001b[0m \u001b[0mscatter_sum\u001b[0m\u001b[1;33m(\u001b[0m\u001b[0msrc\u001b[0m\u001b[1;33m,\u001b[0m \u001b[0mindex\u001b[0m\u001b[1;33m,\u001b[0m \u001b[0mdim\u001b[0m\u001b[1;33m,\u001b[0m \u001b[0mout\u001b[0m\u001b[1;33m,\u001b[0m \u001b[0mdim_size\u001b[0m\u001b[1;33m)\u001b[0m\u001b[1;33m\u001b[0m\u001b[1;33m\u001b[0m\u001b[0m\n\u001b[0m\u001b[0;32m    153\u001b[0m     \u001b[1;32mif\u001b[0m \u001b[0mreduce\u001b[0m \u001b[1;33m==\u001b[0m \u001b[1;34m'mul'\u001b[0m\u001b[1;33m:\u001b[0m\u001b[1;33m\u001b[0m\u001b[1;33m\u001b[0m\u001b[0m\n\u001b[0;32m    154\u001b[0m         \u001b[1;32mreturn\u001b[0m \u001b[0mscatter_mul\u001b[0m\u001b[1;33m(\u001b[0m\u001b[0msrc\u001b[0m\u001b[1;33m,\u001b[0m \u001b[0mindex\u001b[0m\u001b[1;33m,\u001b[0m \u001b[0mdim\u001b[0m\u001b[1;33m,\u001b[0m \u001b[0mout\u001b[0m\u001b[1;33m,\u001b[0m \u001b[0mdim_size\u001b[0m\u001b[1;33m)\u001b[0m\u001b[1;33m\u001b[0m\u001b[1;33m\u001b[0m\u001b[0m\n",
      "\u001b[1;32m~\\anaconda3\\lib\\site-packages\\torch_scatter\\scatter.py\u001b[0m in \u001b[0;36mscatter_sum\u001b[1;34m(src, index, dim, out, dim_size)\u001b[0m\n\u001b[0;32m     19\u001b[0m             \u001b[0msize\u001b[0m\u001b[1;33m[\u001b[0m\u001b[0mdim\u001b[0m\u001b[1;33m]\u001b[0m \u001b[1;33m=\u001b[0m \u001b[0mint\u001b[0m\u001b[1;33m(\u001b[0m\u001b[0mindex\u001b[0m\u001b[1;33m.\u001b[0m\u001b[0mmax\u001b[0m\u001b[1;33m(\u001b[0m\u001b[1;33m)\u001b[0m\u001b[1;33m)\u001b[0m \u001b[1;33m+\u001b[0m \u001b[1;36m1\u001b[0m\u001b[1;33m\u001b[0m\u001b[1;33m\u001b[0m\u001b[0m\n\u001b[0;32m     20\u001b[0m         \u001b[0mout\u001b[0m \u001b[1;33m=\u001b[0m \u001b[0mtorch\u001b[0m\u001b[1;33m.\u001b[0m\u001b[0mzeros\u001b[0m\u001b[1;33m(\u001b[0m\u001b[0msize\u001b[0m\u001b[1;33m,\u001b[0m \u001b[0mdtype\u001b[0m\u001b[1;33m=\u001b[0m\u001b[0msrc\u001b[0m\u001b[1;33m.\u001b[0m\u001b[0mdtype\u001b[0m\u001b[1;33m,\u001b[0m \u001b[0mdevice\u001b[0m\u001b[1;33m=\u001b[0m\u001b[0msrc\u001b[0m\u001b[1;33m.\u001b[0m\u001b[0mdevice\u001b[0m\u001b[1;33m)\u001b[0m\u001b[1;33m\u001b[0m\u001b[1;33m\u001b[0m\u001b[0m\n\u001b[1;32m---> 21\u001b[1;33m         \u001b[1;32mreturn\u001b[0m \u001b[0mout\u001b[0m\u001b[1;33m.\u001b[0m\u001b[0mscatter_add_\u001b[0m\u001b[1;33m(\u001b[0m\u001b[0mdim\u001b[0m\u001b[1;33m,\u001b[0m \u001b[0mindex\u001b[0m\u001b[1;33m,\u001b[0m \u001b[0msrc\u001b[0m\u001b[1;33m)\u001b[0m\u001b[1;33m\u001b[0m\u001b[1;33m\u001b[0m\u001b[0m\n\u001b[0m\u001b[0;32m     22\u001b[0m     \u001b[1;32melse\u001b[0m\u001b[1;33m:\u001b[0m\u001b[1;33m\u001b[0m\u001b[1;33m\u001b[0m\u001b[0m\n\u001b[0;32m     23\u001b[0m         \u001b[1;32mreturn\u001b[0m \u001b[0mout\u001b[0m\u001b[1;33m.\u001b[0m\u001b[0mscatter_add_\u001b[0m\u001b[1;33m(\u001b[0m\u001b[0mdim\u001b[0m\u001b[1;33m,\u001b[0m \u001b[0mindex\u001b[0m\u001b[1;33m,\u001b[0m \u001b[0msrc\u001b[0m\u001b[1;33m)\u001b[0m\u001b[1;33m\u001b[0m\u001b[1;33m\u001b[0m\u001b[0m\n",
      "\u001b[1;31mKeyboardInterrupt\u001b[0m: "
     ]
    }
   ],
   "source": [
    "device = 'cpu'\n",
    "\n",
    "# Build the graph for the regular GNN\n",
    "edge_index, edge_attr = from_scipy_sparse_matrix(\n",
    "    adata.obsp['spatial_distances'])\n",
    "edge_attr = edge_attr.view(-1, 1).float()\n",
    "x_index, x_values = from_scipy_sparse_matrix(X_with_spatial)\n",
    "x_values = x_values.float()\n",
    "x = torch.sparse_coo_tensor(x_index, x_values)\n",
    "y = torch.tensor(labels, dtype=torch.long)\n",
    "data = Data(edge_index=edge_index, edge_attr=edge_attr, x=x, y=y)\n",
    "data = data.to(device)\n",
    "\n",
    "# Regular GNN model\n",
    "model = MPNNModel(\n",
    "    in_dim=X_with_spatial.shape[1], out_dim=max(labels)+1, edge_dim=1, num_layers=2, emb_dim=128)\n",
    "model = model.to(device)\n",
    "\n",
    "train(model, data, train_mask, test_mask)\n"
   ]
  },
  {
   "cell_type": "code",
   "execution_count": 34,
   "metadata": {},
   "outputs": [
    {
     "data": {
      "text/plain": [
       "torch.Size([1929622])"
      ]
     },
     "execution_count": 34,
     "metadata": {},
     "output_type": "execute_result"
    }
   ],
   "source": [
    "x_values.shape\n"
   ]
  },
  {
   "cell_type": "code",
   "execution_count": null,
   "metadata": {},
   "outputs": [],
   "source": []
  }
 ],
 "metadata": {
  "interpreter": {
   "hash": "74ab7c6ffe6706754a8af46cc4d18eebe476c74ce21a19282f620e1b1e9919fe"
  },
  "kernelspec": {
   "display_name": "Python 3.9.7 ('base')",
   "language": "python",
   "name": "python3"
  },
  "language_info": {
   "codemirror_mode": {
    "name": "ipython",
    "version": 3
   },
   "file_extension": ".py",
   "mimetype": "text/x-python",
   "name": "python",
   "nbconvert_exporter": "python",
   "pygments_lexer": "ipython3",
   "version": "3.9.7"
  },
  "orig_nbformat": 4
 },
 "nbformat": 4,
 "nbformat_minor": 2
}
