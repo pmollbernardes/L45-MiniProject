{
 "cells": [
  {
   "cell_type": "code",
   "execution_count": 1,
   "metadata": {},
   "outputs": [],
   "source": [
    "import squidpy as sq\n",
    "\n",
    "adata = sq.datasets.seqfish()"
   ]
  },
  {
   "cell_type": "code",
   "execution_count": 2,
   "metadata": {},
   "outputs": [],
   "source": [
    "from sklearn.model_selection import train_test_split\n",
    "from sklearn import svm\n",
    "from sklearn import metrics\n",
    "from scipy.sparse import hstack\n",
    "\n",
    "labels = adata.obs['celltype_mapped_refined'].cat.codes.values\n",
    "X_with_spatial = hstack((adata.X, adata.obsm['spatial']))\n",
    "\n",
    "X_train, X_test, y_train, y_test = train_test_split(\n",
    "    X_with_spatial, labels, test_size=0.3)"
   ]
  },
  {
   "cell_type": "code",
   "execution_count": 3,
   "metadata": {},
   "outputs": [
    {
     "name": "stdout",
     "output_type": "stream",
     "text": [
      "Accuracy (RBF SVC): 0.8460085836909871\n",
      "Accuracy (RBF SVC, Spatial): 0.8478969957081545\n"
     ]
    }
   ],
   "source": [
    "\n",
    "classifier_x_only = svm.SVC(kernel='rbf')\n",
    "classifier_x_only.fit(X_train, y_train)\n",
    "y_pred = classifier_x_only.predict(X_test)\n",
    "print(\"Accuracy (RBF SVC):\", metrics.accuracy_score(y_test, y_pred))\n",
    "\n",
    "classifier_x_plus_spatial = svm.SVC(kernel='rbf')\n",
    "classifier_x_plus_spatial.fit(X_train[:, :-2], y_train)\n",
    "y_pred = classifier_x_plus_spatial.predict(X_test[:, :-2])\n",
    "print(\"Accuracy (RBF SVC, Spatial):\", metrics.accuracy_score(y_test, y_pred))\n"
   ]
  },
  {
   "cell_type": "code",
   "execution_count": 11,
   "metadata": {},
   "outputs": [
    {
     "name": "stdout",
     "output_type": "stream",
     "text": [
      "Accuracy (RBF SVC, Spatial only): 0.5769957081545064\n"
     ]
    }
   ],
   "source": [
    "# Classify based solely on spatial information\n",
    "\n",
    "classifier_spatial_only = svm.SVC(kernel='rbf')\n",
    "classifier_spatial_only.fit(X_train[:, -2:], y_train)\n",
    "y_pred = classifier_spatial_only.predict(X_train[:, -2:])\n",
    "print(\"Accuracy (RBF SVC, Spatial only):\", metrics.accuracy_score(y_test, y_pred))\n"
   ]
  },
  {
   "cell_type": "code",
   "execution_count": 5,
   "metadata": {},
   "outputs": [
    {
     "name": "stdout",
     "output_type": "stream",
     "text": [
      "Accuracy (RBF SVC, Spatial only, Rotated): 0.03690987124463519\n"
     ]
    }
   ],
   "source": [
    "import numpy as np\n",
    "import math\n",
    "\n",
    "theta = math.pi / 2\n",
    "R = np.array([[math.cos(theta), -math.sin(theta)],\n",
    "             [math.sin(theta), math.cos(theta)]])\n",
    "X_test_spatial_only_rotated = np.matmul(X_train[:, -2:], R)\n",
    "y_pred = classifier_spatial_only.predict(X_test_spatial_only_rotated)\n",
    "print(\"Accuracy (RBF SVC, Spatial only, Rotated):\",\n",
    "      metrics.accuracy_score(y_test, y_pred))\n"
   ]
  },
  {
   "cell_type": "code",
   "execution_count": 12,
   "metadata": {},
   "outputs": [
    {
     "name": "stdout",
     "output_type": "stream",
     "text": [
      "Accuracy (RBF SVC, Spatial, Rotated): 0.8245493562231759\n"
     ]
    }
   ],
   "source": [
    "from scipy.sparse import csr_matrix\n",
    "\n",
    "theta = math.pi / 2\n",
    "R = np.array([[math.cos(theta), -math.sin(theta)],\n",
    "             [math.sin(theta), math.cos(theta)]])\n",
    "X_test_spatial_rotated = hstack(\n",
    "    (X_test[:, :-2], X_test[:, -2:] @ csr_matrix(R)))\n",
    "y_pred = classifier_x_plus_spatial.predict(X_test_spatial_rotated)\n",
    "print(\"Accuracy (RBF SVC, Spatial, Rotated):\",\n",
    "      metrics.accuracy_score(y_test, y_pred))\n"
   ]
  },
  {
   "cell_type": "code",
   "execution_count": 11,
   "metadata": {},
   "outputs": [],
   "source": [
    "import random\n",
    "import torch\n",
    "import torch.nn.functional as F\n",
    "from torch_geometric.data import Data\n",
    "from torch_geometric.utils import from_scipy_sparse_matrix\n",
    "from GNN import MPNNModel\n",
    "\n",
    "device = 'cuda' if torch.cuda.is_available() else 'cpu'\n",
    "\n",
    "if 'spatial_distances' not in adata.obsp:\n",
    "    sq.gr.spatial_neighbors(adata, n_neighs=6, coord_type='generic')\n",
    "\n",
    "train_mask_size = int(adata.X.shape[0] * 0.7)\n",
    "shuffled_indices = list(range(adata.X.shape[0]))\n",
    "random.shuffle(shuffled_indices)\n",
    "train_mask = torch.tensor(shuffled_indices[:train_mask_size], dtype=torch.long)\n",
    "test_mask = torch.tensor(shuffled_indices[train_mask_size:], dtype=torch.long)\n",
    "\n",
    "def train(model, data, train_mask, test_mask):\n",
    "    optimizer = torch.optim.Adam(model.parameters(), lr=0.001)\n",
    "    model.train()\n",
    "    epochs = 200\n",
    "    for epoch in range(epochs):\n",
    "        optimizer.zero_grad()\n",
    "        out = model(data)\n",
    "        predictions = torch.argmax(out, dim=1)\n",
    "        loss = F.cross_entropy(out[train_mask], data.y[train_mask])\n",
    "        loss.backward()\n",
    "        optimizer.step()\n",
    "        train_acc = (predictions[train_mask] ==\n",
    "                     data.y[train_mask]).sum() / len(train_mask)\n",
    "        test_acc = (predictions[test_mask] ==\n",
    "                    data.y[test_mask]).sum() / len(test_mask)\n",
    "        print(\n",
    "            f'Epoch: {epoch} - Loss: {loss} - Train Accuracy: {train_acc} - Test Accuracy: {test_acc}')\n",
    "\n",
    "\n"
   ]
  },
  {
   "cell_type": "code",
   "execution_count": null,
   "metadata": {},
   "outputs": [],
   "source": [
    "device = 'cpu'\n",
    "\n",
    "# Build the graph for the invariant GNN\n",
    "edge_index, edge_attr = from_scipy_sparse_matrix(\n",
    "    adata.obsp['spatial_distances'])\n",
    "edge_attr = edge_attr.view(-1, 1).float()\n",
    "x_index, x_values = from_scipy_sparse_matrix(adata.X)\n",
    "x = torch.sparse_coo_tensor(x_index, x_values)\n",
    "y = torch.tensor(labels, dtype=torch.long)\n",
    "data = Data(edge_index=edge_index, edge_attr=edge_attr, x=x, y=y)\n",
    "data = data.to(device)\n",
    "\n",
    "# Invariant GNN model\n",
    "model = MPNNModel(in_dim=adata.X.shape[1], out_dim=max(labels)+1, edge_dim=1, num_layers=2, emb_dim=128)\n",
    "model = model.to(device)\n",
    "\n",
    "train(model, data, train_mask, test_mask)\n"
   ]
  },
  {
   "cell_type": "code",
   "execution_count": null,
   "metadata": {},
   "outputs": [],
   "source": []
  }
 ],
 "metadata": {
  "interpreter": {
   "hash": "74ab7c6ffe6706754a8af46cc4d18eebe476c74ce21a19282f620e1b1e9919fe"
  },
  "kernelspec": {
   "display_name": "Python 3.9.7 ('base')",
   "language": "python",
   "name": "python3"
  },
  "language_info": {
   "codemirror_mode": {
    "name": "ipython",
    "version": 3
   },
   "file_extension": ".py",
   "mimetype": "text/x-python",
   "name": "python",
   "nbconvert_exporter": "python",
   "pygments_lexer": "ipython3",
   "version": "3.9.7"
  },
  "orig_nbformat": 4
 },
 "nbformat": 4,
 "nbformat_minor": 2
}
