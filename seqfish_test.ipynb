{
 "cells": [
  {
   "cell_type": "code",
   "execution_count": 2,
   "metadata": {},
   "outputs": [],
   "source": [
    "import squidpy as sq\n",
    "\n",
    "adata = sq.datasets.seqfish()"
   ]
  },
  {
   "cell_type": "code",
   "execution_count": 3,
   "metadata": {},
   "outputs": [],
   "source": [
    "from anndata.experimental.pytorch import AnnLoader\n",
    "from sklearn.preprocessing import OneHotEncoder, LabelEncoder\n",
    "from sklearn.model_selection import train_test_split\n",
    "from scipy.sparse import hstack\n",
    "\n",
    "labels = adata.obs['celltype_mapped_refined'].cat.codes.values\n",
    "X_with_spatial = hstack((adata.X, adata.obsm['spatial']))\n",
    "\n",
    "X_train, X_test, y_train, y_test = train_test_split(\n",
    "    adata.X, labels, test_size=0.3,)\n",
    "\n",
    "X_train_spatial, X_test_spatial, y_train, y_test = train_test_split(\n",
    "    X_with_spatial, labels, test_size=0.3,)\n",
    "\n"
   ]
  },
  {
   "cell_type": "code",
   "execution_count": null,
   "metadata": {},
   "outputs": [],
   "source": [
    "from sklearn import svm\n",
    "from sklearn import metrics\n",
    "\n",
    "classifier = svm.SVC(kernel='rbf')\n",
    "classifier.fit(X_train, y_train)\n",
    "y_pred = classifier.predict(X_test)\n",
    "print(\"Accuracy (RBF SVC):\", metrics.accuracy_score(y_test, y_pred))\n",
    "\n",
    "classifier = svm.SVC(kernel='rbf')\n",
    "classifier.fit(X_train_spatial, y_train)\n",
    "y_pred = classifier.predict(X_test_spatial)\n",
    "print(\"Accuracy (RBF SVC, Spatial):\", metrics.accuracy_score(y_test, y_pred))\n"
   ]
  },
  {
   "cell_type": "code",
   "execution_count": 4,
   "metadata": {},
   "outputs": [],
   "source": [
    "import random\n",
    "import torch\n",
    "from torch_geometric.data import Data\n",
    "from torch_geometric.utils import from_scipy_sparse_matrix\n",
    "from GNN import MPNNModel\n",
    "\n",
    "device = 'cpu'\n",
    "\n",
    "model = MPNNModel(in_dim=adata.X.shape[1], out_dim=max(labels)+1, edge_dim=1)\n",
    "model = model.to(device)\n",
    "\n",
    "if 'spatial_distances' not in adata.obsp:\n",
    "    sq.gr.spatial_neighbors(adata)\n",
    "edge_index, edge_attr = from_scipy_sparse_matrix(\n",
    "    adata.obsp['spatial_distances'])\n",
    "edge_attr = edge_attr.view(-1, 1).float()\n",
    "x_index, x_values = from_scipy_sparse_matrix(adata.X)\n",
    "x = torch.sparse_coo_tensor(x_index, x_values)\n",
    "y = torch.tensor(labels, dtype=torch.long)\n",
    "data = Data(edge_index=edge_index, edge_attr=edge_attr, x=x, y=y)\n",
    "data = data.to(device)\n"
   ]
  },
  {
   "cell_type": "code",
   "execution_count": null,
   "metadata": {},
   "outputs": [],
   "source": [
    "import torch.nn.functional as F\n",
    "\n",
    "train_mask_size = int(len(data.x) * 0.7)\n",
    "shuffled_indices = list(range(len(data.x)))\n",
    "random.shuffle(shuffled_indices)\n",
    "train_mask = torch.tensor(shuffled_indices[:train_mask_size], dtype=torch.long)\n",
    "test_mask = torch.tensor(shuffled_indices[train_mask_size:], dtype=torch.long)\n",
    "\n",
    "optimizer = torch.optim.Adam(model.parameters(), lr=0.001)\n",
    "model.train()\n",
    "epochs = 200\n",
    "for epoch in range(epochs):\n",
    "    out = model(data)\n",
    "    predictions = torch.argmax(out, dim=1)\n",
    "    loss = F.cross_entropy(out[train_mask], data.y[train_mask])\n",
    "    loss.backward()\n",
    "    optimizer.step()\n",
    "    train_acc = (predictions[train_mask] == data.y[train_mask]).sum() / len(train_mask)\n",
    "    test_acc = (predictions[test_mask] == data.y[test_mask]).sum() / len(test_mask)\n",
    "    print(f'Epoch: {epoch} - Loss: {loss} - Train Accuracy: {train_acc} - Test Accuracy: {test_acc}')\n"
   ]
  }
 ],
 "metadata": {
  "interpreter": {
   "hash": "74ab7c6ffe6706754a8af46cc4d18eebe476c74ce21a19282f620e1b1e9919fe"
  },
  "kernelspec": {
   "display_name": "Python 3.9.7 ('base')",
   "language": "python",
   "name": "python3"
  },
  "language_info": {
   "codemirror_mode": {
    "name": "ipython",
    "version": 3
   },
   "file_extension": ".py",
   "mimetype": "text/x-python",
   "name": "python",
   "nbconvert_exporter": "python",
   "pygments_lexer": "ipython3",
   "version": "3.9.7"
  },
  "orig_nbformat": 4
 },
 "nbformat": 4,
 "nbformat_minor": 2
}
